{
 "cells": [
  {
   "cell_type": "code",
   "execution_count": 31,
   "metadata": {},
   "outputs": [],
   "source": [
    "import numpy as np\n",
    "import matplotlib.pyplot as plt"
   ]
  },
  {
   "cell_type": "code",
   "execution_count": 32,
   "metadata": {},
   "outputs": [],
   "source": [
    "#config\n",
    "inputSize = 5\n",
    "outputSize = 3\n",
    "batchSize = 10\n",
    "testSize = 5\n",
    "epochs = 400\n",
    "learningRate = 0.01\n",
    "seed = 234"
   ]
  },
  {
   "cell_type": "code",
   "execution_count": 33,
   "metadata": {},
   "outputs": [],
   "source": [
    "#functions\n",
    "#Operator example in forward and backward (Mult)\n",
    "def forwardMult(A,B):\n",
    "    return np.matmul(A,B) \n",
    "\n",
    "def backwardMult(dC,A,B,dA,dB):\n",
    "    dA += np.matmul(dC,np.matrix.transpose(B))\n",
    "    dB += np.matmul(np.matrix.transpose(A),dC)\n",
    "    \n",
    "#Loss function in forward and backward - using RMSE\n",
    "def forwardloss(predictedOutput,realOutput):\n",
    "    if(predictedOutput.shape == realOutput.shape):\n",
    "        loss = np.mean( 0.5*np.square(predictedOutput - realOutput))       \n",
    "    else :\n",
    "        print(\"Shape of arrays are not the same\")\n",
    "    return loss\n",
    "\n",
    "def backwardloss(predictedOutput,realOutput):\n",
    "    if(predictedOutput.shape == realOutput.shape):\n",
    "        deltaOutput = (predictedOutput - realOutput)/predictedOutput.size\n",
    "    else :\n",
    "        print(\"Shape of arrays are not the same\")\n",
    "    return deltaOutput\n",
    "\n",
    "#Optimizer example (SGD)\n",
    "def updateweights(W,dW,learningRate):\n",
    "    W -= learningRate * dW"
   ]
  },
  {
   "cell_type": "code",
   "execution_count": 34,
   "metadata": {},
   "outputs": [],
   "source": [
    "#Generation of fake dataset - we generate random inputs and weights and calculate outputs\n",
    "np.random.seed(seed)\n",
    "inputArray = np.random.uniform(-5,5,(batchSize,inputSize))\n",
    "weights = np.random.uniform(-5,5,(inputSize,outputSize))\n",
    "outputArray = np.matmul(inputArray,weights)\n",
    "inputTest = np.random.uniform(-5,5,(testSize,inputSize))\n",
    "outputTest = np.matmul(inputTest,weights)"
   ]
  },
  {
   "cell_type": "code",
   "execution_count": 35,
   "metadata": {},
   "outputs": [
    {
     "data": {
      "text/plain": [
       "array([[-4.69032657, -2.45717927,  4.12400444,  4.70174198, -2.53380224],\n",
       "       [ 1.98807414,  3.66429319,  1.39521847, -0.43156352, -0.01205248],\n",
       "       [ 2.20475007, -2.2874681 ,  3.00619031,  0.09252675,  3.19921021],\n",
       "       [-1.92286763,  1.59278221, -1.86491109,  0.4465191 , -1.80158538],\n",
       "       [-0.40847213,  3.13091615,  4.57551662, -4.96006497,  4.8393864 ],\n",
       "       [ 4.89619708, -4.07991415, -0.3797906 ,  3.77546379, -1.2500705 ],\n",
       "       [-2.61311962, -1.27454666,  0.42452043,  2.38096042,  3.77518332],\n",
       "       [ 0.39582658, -4.20936429,  2.49545249,  2.00971894,  3.36574644],\n",
       "       [ 1.62638802,  4.50205126,  2.23686128, -4.88461464,  1.58991466],\n",
       "       [-2.84093095, -2.68033729, -3.41494537,  4.30828353, -3.67848905]])"
      ]
     },
     "execution_count": 35,
     "metadata": {},
     "output_type": "execute_result"
    }
   ],
   "source": [
    "inputArray"
   ]
  },
  {
   "cell_type": "code",
   "execution_count": 36,
   "metadata": {},
   "outputs": [
    {
     "data": {
      "text/plain": [
       "array([[-11.17950603,  25.43417531,   0.16518699],\n",
       "       [ 24.87860623, -11.03967879,  14.39615915],\n",
       "       [ -2.52418963,   6.70762637,   0.78973932],\n",
       "       [ -1.60981036,  -3.08552581,   0.04619469],\n",
       "       [ 29.15062741,  -8.68810543,  23.82789261],\n",
       "       [-13.52609021,   8.3920861 , -15.93292766],\n",
       "       [-31.06544943,  10.90669829,  -1.81070632],\n",
       "       [-23.18183344,  16.33107095,  -6.60153049],\n",
       "       [ 40.741458  , -18.02965063,  21.03103592],\n",
       "       [-32.3822324 ,  12.78274158, -18.58667456]])"
      ]
     },
     "execution_count": 36,
     "metadata": {},
     "output_type": "execute_result"
    }
   ],
   "source": [
    "outputArray"
   ]
  },
  {
   "cell_type": "code",
   "execution_count": 37,
   "metadata": {},
   "outputs": [
    {
     "data": {
      "text/plain": [
       "array([[ 3.40411888,  4.01127342,  2.57050004,  0.50221462,  1.43633326],\n",
       "       [-1.49326801, -3.73354615,  2.62080526, -1.24854498,  2.6817917 ],\n",
       "       [-2.27883967, -0.68434092,  0.9456769 ,  1.83220263, -4.42878211],\n",
       "       [ 3.23437804,  2.71494565,  1.09862213, -2.60691967,  3.97709075],\n",
       "       [ 4.37686482,  1.32903548,  1.91032346,  2.83612946,  1.68293362]])"
      ]
     },
     "execution_count": 37,
     "metadata": {},
     "output_type": "execute_result"
    }
   ],
   "source": [
    "inputTest"
   ]
  },
  {
   "cell_type": "code",
   "execution_count": 38,
   "metadata": {},
   "outputs": [
    {
     "data": {
      "text/plain": [
       "array([[ 25.64540532, -11.11484824,  18.25753025],\n",
       "       [-11.26106058,  13.3265913 ,  -3.79871598],\n",
       "       [  5.15839871,   9.10425077,  -1.92282015],\n",
       "       [ 16.91388527, -14.07686158,  12.85619453],\n",
       "       [  6.501987  ,  -3.15443183,   7.64596445]])"
      ]
     },
     "execution_count": 38,
     "metadata": {},
     "output_type": "execute_result"
    }
   ],
   "source": [
    "outputTest"
   ]
  },
  {
   "cell_type": "code",
   "execution_count": 39,
   "metadata": {},
   "outputs": [],
   "source": [
    "#initialization of NN by other random weights\n",
    "nnWeights = np.random.uniform(-3,3,(inputSize,outputSize))\n",
    "deltaweights = np.zeros((inputSize,outputSize))\n",
    "deltainput = np.zeros((batchSize,inputSize))\n",
    "deltaoutput = np.zeros((inputSize,outputSize))"
   ]
  },
  {
   "cell_type": "code",
   "execution_count": 25,
   "metadata": {},
   "outputs": [
    {
     "data": {
      "text/plain": [
       "array([[ 2.37067693, -1.44302705, -0.15188461],\n",
       "       [ 3.53546208, -2.56657374,  3.09414798],\n",
       "       [ 4.01957296,  1.33025708,  2.31445914],\n",
       "       [-3.61331815,  1.44262713, -0.31484193],\n",
       "       [-3.56742915, -0.03572843,  0.39816026]])"
      ]
     },
     "execution_count": 25,
     "metadata": {},
     "output_type": "execute_result"
    }
   ],
   "source": [
    "#Comparing the dataset weights \n",
    "weights"
   ]
  },
  {
   "cell_type": "code",
   "execution_count": 26,
   "metadata": {},
   "outputs": [
    {
     "data": {
      "text/plain": [
       "array([[-0.03309891,  0.64173939,  2.42426835],\n",
       "       [-0.22621591, -0.73724817, -1.85056504],\n",
       "       [ 0.01589979,  2.16480131, -1.08344349],\n",
       "       [ 1.1445907 , -0.88022016, -0.64781557],\n",
       "       [-0.90046533,  0.11073684,  0.12841833]])"
      ]
     },
     "execution_count": 26,
     "metadata": {},
     "output_type": "execute_result"
    }
   ],
   "source": [
    "\n",
    "#with the NN weights\n",
    "nnWeights"
   ]
  },
  {
   "cell_type": "code",
   "execution_count": 41,
   "metadata": {},
   "outputs": [
    {
     "name": "stdout",
     "output_type": "stream",
     "text": [
      "Epoch: 10 Loss (train): 83.056 Loss (test): 33.571\n",
      "Epoch: 20 Loss (train): 34.402 Loss (test): 20.068\n",
      "Epoch: 30 Loss (train): 19.699 Loss (test): 16.772\n",
      "Epoch: 40 Loss (train): 13.500 Loss (test): 15.158\n",
      "Epoch: 50 Loss (train): 10.046 Loss (test): 13.893\n",
      "Epoch: 60 Loss (train): 7.795 Loss (test): 12.790\n",
      "Epoch: 70 Loss (train): 6.212 Loss (test): 11.813\n",
      "Epoch: 80 Loss (train): 5.048 Loss (test): 10.940\n",
      "Epoch: 90 Loss (train): 4.165 Loss (test): 10.153\n",
      "Epoch: 100 Loss (train): 3.479 Loss (test): 9.438\n",
      "Epoch: 110 Loss (train): 2.935 Loss (test): 8.783\n",
      "Epoch: 120 Loss (train): 2.498 Loss (test): 8.184\n",
      "Epoch: 130 Loss (train): 2.142 Loss (test): 7.633\n",
      "Epoch: 140 Loss (train): 1.850 Loss (test): 7.126\n",
      "Epoch: 150 Loss (train): 1.607 Loss (test): 6.660\n",
      "Epoch: 160 Loss (train): 1.404 Loss (test): 6.230\n",
      "Epoch: 170 Loss (train): 1.233 Loss (test): 5.835\n",
      "Epoch: 180 Loss (train): 1.089 Loss (test): 5.470\n",
      "Epoch: 190 Loss (train): 0.966 Loss (test): 5.133\n",
      "Epoch: 200 Loss (train): 0.862 Loss (test): 4.821\n",
      "Epoch: 210 Loss (train): 0.772 Loss (test): 4.533\n",
      "Epoch: 220 Loss (train): 0.695 Loss (test): 4.265\n",
      "Epoch: 230 Loss (train): 0.628 Loss (test): 4.016\n",
      "Epoch: 240 Loss (train): 0.570 Loss (test): 3.785\n",
      "Epoch: 250 Loss (train): 0.519 Loss (test): 3.569\n",
      "Epoch: 260 Loss (train): 0.475 Loss (test): 3.368\n",
      "Epoch: 270 Loss (train): 0.436 Loss (test): 3.179\n",
      "Epoch: 280 Loss (train): 0.401 Loss (test): 3.003\n",
      "Epoch: 290 Loss (train): 0.371 Loss (test): 2.838\n",
      "Epoch: 300 Loss (train): 0.343 Loss (test): 2.682\n",
      "Epoch: 310 Loss (train): 0.318 Loss (test): 2.536\n",
      "Epoch: 320 Loss (train): 0.296 Loss (test): 2.399\n",
      "Epoch: 330 Loss (train): 0.276 Loss (test): 2.270\n",
      "Epoch: 340 Loss (train): 0.258 Loss (test): 2.148\n",
      "Epoch: 350 Loss (train): 0.241 Loss (test): 2.033\n",
      "Epoch: 360 Loss (train): 0.226 Loss (test): 1.924\n",
      "Epoch: 370 Loss (train): 0.212 Loss (test): 1.822\n",
      "Epoch: 380 Loss (train): 0.199 Loss (test): 1.725\n",
      "Epoch: 390 Loss (train): 0.187 Loss (test): 1.633\n",
      "Epoch: 400 Loss (train): 0.176 Loss (test): 1.547\n"
     ]
    }
   ],
   "source": [
    "historyTrain=[] #Used to record the history of loss\n",
    "historyTest=[]\n",
    "i = 1\n",
    "while i <= epochs:\n",
    "    #Forwardpropagation train:\n",
    "    nnOutput = forwardMult(inputArray,nnWeights)\n",
    "    lossTrain = forwardloss(nnOutput,outputArray)\n",
    "    historyTrain.append(lossTrain)\n",
    "    \n",
    "    #Forwardpropagation test:\n",
    "    nnTest = forwardMult(inputTest,nnWeights)\n",
    "    lossTest = forwardloss(nnTest,outputTest)\n",
    "    historyTest.append(lossTest)\n",
    "    #Print Loss every 50 epochs: \n",
    "    if(i%10==0):\n",
    "        print(\"Epoch: \" + str(i) + \" Loss (train): \" + \"{0:.3f}\".format(lossTrain) + \" Loss (test): \" + \"{0:.3f}\".format(lossTest))\n",
    "    \n",
    "    #Backpropagate\n",
    "    deltaoutput = backwardloss(nnOutput,outputArray)\n",
    "    backwardMult(deltaoutput,inputArray,nnWeights,deltainput,deltaweights)\n",
    "    \n",
    "    #Apply optimizer\n",
    "    updateweights(nnWeights,deltaweights, learningRate)\n",
    "    \n",
    "    #Reset deltas \n",
    "    deltainput = np.zeros((batchSize,inputSize))\n",
    "    deltaweights = np.zeros((inputSize,outputSize))\n",
    "    deltaoutput = np.zeros((inputSize,outputSize))\n",
    "    \n",
    "    #Start new epoch\n",
    "    i = i+1"
   ]
  },
  {
   "cell_type": "code",
   "execution_count": 42,
   "metadata": {},
   "outputs": [
    {
     "data": {
      "image/png": "[encoded data removed]",
      "text/plain": [
       "<Figure size 432x288 with 1 Axes>"
      ]
     },
     "metadata": {
      "needs_background": "light"
     },
     "output_type": "display_data"
    }
   ],
   "source": [
    "plt.plot(historyTrain)\n",
    "plt.plot(historyTest)\n",
    "plt.title('RMSE loss')\n",
    "plt.ylabel('Loss')\n",
    "plt.xlabel('Epoch')\n",
    "plt.legend(['train','test'], loc='upper right')\n",
    "plt.show()"
   ]
  },
  {
   "cell_type": "code",
   "execution_count": 43,
   "metadata": {},
   "outputs": [
    {
     "data": {
      "text/plain": [
       "array([[ 2.37067693, -1.44302705, -0.15188461],\n",
       "       [ 3.53546208, -2.56657374,  3.09414798],\n",
       "       [ 4.01957296,  1.33025708,  2.31445914],\n",
       "       [-3.61331815,  1.44262713, -0.31484193],\n",
       "       [-3.56742915, -0.03572843,  0.39816026]])"
      ]
     },
     "execution_count": 43,
     "metadata": {},
     "output_type": "execute_result"
    }
   ],
   "source": [
    "\n",
    "# Original weights used to generate the dataset\n",
    "weights"
   ]
  },
  {
   "cell_type": "code",
   "execution_count": 44,
   "metadata": {},
   "outputs": [
    {
     "data": {
      "text/plain": [
       "array([[ 2.43529097, -1.4471894 , -0.29675436],\n",
       "       [ 3.90855824, -2.6053909 ,  2.53826137],\n",
       "       [ 3.8814664 ,  1.35306056,  2.35556691],\n",
       "       [-3.18163163,  1.39684641, -0.9408696 ],\n",
       "       [-3.27267018, -0.0749158 ,  0.12499928]])"
      ]
     },
     "execution_count": 44,
     "metadata": {},
     "output_type": "execute_result"
    }
   ],
   "source": [
    "# Learned weights of the NN\n",
    "nnWeights"
   ]
  },
  {
   "cell_type": "code",
   "execution_count": null,
   "metadata": {},
   "outputs": [],
   "source": []
  },
  {
   "cell_type": "code",
   "execution_count": null,
   "metadata": {},
   "outputs": [],
   "source": []
  }
 ],
 "metadata": {
  "kernelspec": {
   "display_name": "Python 3",
   "language": "python",
   "name": "python3"
  },
  "language_info": {
   "codemirror_mode": {
    "name": "ipython",
    "version": 3
   },
   "file_extension": ".py",
   "mimetype": "text/x-python",
   "name": "python",
   "nbconvert_exporter": "python",
   "pygments_lexer": "ipython3",
   "version": "3.8.5"
  }
 },
 "nbformat": 4,
 "nbformat_minor": 4
}
