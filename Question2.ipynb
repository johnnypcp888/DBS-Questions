{
 "cells": [
  {
   "cell_type": "code",
   "execution_count": 51,
   "metadata": {},
   "outputs": [],
   "source": [
    "import numpy as np\n",
    "def count_Pairs_Diff_K(ls, n, k):\n",
    "    count = 0\n",
    "    ls.sort()\n",
    "    setoflists = set()\n",
    "    \n",
    "    # Pick all elements one by one\n",
    "    for i in range(0, n):\n",
    "        list1 = [] \n",
    "        # See if there is a pair of this picked element\n",
    "        for j in range(i+1, n) :\n",
    "             \n",
    "            if ls[i] - ls[j] == k or ls[j] - ls[i] == k:\n",
    "                list1.append(ls[i])\n",
    "                list1.append(ls[j])\n",
    "                count += 1\n",
    "        if len(list1) != 0:\n",
    "            setoflists.add(tuple(list1))\n",
    "            \n",
    "    return count, setoflists"
   ]
  },
  {
   "cell_type": "code",
   "execution_count": 52,
   "metadata": {},
   "outputs": [],
   "source": [
    "# input list\n",
    "ls = [1, 3, 5]"
   ]
  },
  {
   "cell_type": "code",
   "execution_count": 54,
   "metadata": {},
   "outputs": [
    {
     "name": "stdout",
     "output_type": "stream",
     "text": [
      "we will have 2 pairs: {(1, 3), (3, 5)}\n"
     ]
    }
   ],
   "source": [
    "n = len(ls)\n",
    "k = 2\n",
    "count_pairs, ls1 = count_Pairs_Diff_K(ls, n, k)\n",
    "print (\"we will have {} pairs:\".format(count_pairs), ls1)"
   ]
  },
  {
   "cell_type": "code",
   "execution_count": null,
   "metadata": {},
   "outputs": [],
   "source": []
  },
  {
   "cell_type": "code",
   "execution_count": null,
   "metadata": {},
   "outputs": [],
   "source": []
  }
 ],
 "metadata": {
  "kernelspec": {
   "display_name": "Python 3",
   "language": "python",
   "name": "python3"
  },
  "language_info": {
   "codemirror_mode": {
    "name": "ipython",
    "version": 3
   },
   "file_extension": ".py",
   "mimetype": "text/x-python",
   "name": "python",
   "nbconvert_exporter": "python",
   "pygments_lexer": "ipython3",
   "version": "3.8.5"
  }
 },
 "nbformat": 4,
 "nbformat_minor": 4
}
