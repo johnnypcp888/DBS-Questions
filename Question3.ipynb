{
 "cells": [
  {
   "cell_type": "code",
   "execution_count": 48,
   "metadata": {},
   "outputs": [],
   "source": [
    "data = [(\"username1\", \"phone_number1\", \"email1\"),\n",
    "        (\"usernameX\", \"phone_number1\", \"emailX\"),\n",
    "        (\"usernameZ\", \"phone_numberZ\", \"email1Z\"),\n",
    "        (\"usernameY\", \"phone_numberY\", \"emailX\")]"
   ]
  },
  {
   "cell_type": "code",
   "execution_count": 136,
   "metadata": {},
   "outputs": [],
   "source": [
    "def match(element1, element2):\n",
    "    '''Match 2 adjacent variable to check whether they are same.'''\n",
    "    if (element1[0] == element2[0] or element1[1] == element2[1] or element1[2] == element2[2]):\n",
    "        return True\n",
    "    else:\n",
    "        return False\n",
    "\n",
    "def unique(list1): \n",
    "    '''function to get unique values '''\n",
    "    # intilize a null list \n",
    "    unique_list = [] \n",
    "      \n",
    "    # traverse for all elements \n",
    "    for x in list1: \n",
    "        # check if exists in unique_list or not \n",
    "        if x not in unique_list: \n",
    "            unique_list.append(x) \n",
    "         \n",
    "    return unique_list"
   ]
  },
  {
   "cell_type": "code",
   "execution_count": 137,
   "metadata": {},
   "outputs": [],
   "source": [
    "group = []\n",
    "ls1 = []\n",
    "for i in range(len(data)):\n",
    "    temp = {i}\n",
    "    for j in range(len(data)):\n",
    "        if (match(data[i], data[j])):\n",
    "            temp.add(j)\n",
    "    group.append(temp)\n"
   ]
  },
  {
   "cell_type": "code",
   "execution_count": 138,
   "metadata": {},
   "outputs": [],
   "source": [
    "for i in range(len(data)):\n",
    "    ans = together[i-1]\n",
    "    for j in range(i+1, len(data)):\n",
    "        if (bool(ans.intersection(group[j]))):\n",
    "            ans = ans.union(group[j])\n",
    "    ls1.append(ans)"
   ]
  },
  {
   "cell_type": "code",
   "execution_count": 139,
   "metadata": {},
   "outputs": [],
   "source": [
    "ls2 = unique(ls1) "
   ]
  },
  {
   "cell_type": "code",
   "execution_count": 140,
   "metadata": {},
   "outputs": [
    {
     "name": "stdout",
     "output_type": "stream",
     "text": [
      "[{0, 1, 3}, {2}]\n"
     ]
    }
   ],
   "source": [
    "print(ls2)"
   ]
  },
  {
   "cell_type": "code",
   "execution_count": null,
   "metadata": {},
   "outputs": [],
   "source": []
  }
 ],
 "metadata": {
  "kernelspec": {
   "display_name": "Python 3",
   "language": "python",
   "name": "python3"
  },
  "language_info": {
   "codemirror_mode": {
    "name": "ipython",
    "version": 3
   },
   "file_extension": ".py",
   "mimetype": "text/x-python",
   "name": "python",
   "nbconvert_exporter": "python",
   "pygments_lexer": "ipython3",
   "version": "3.8.5"
  }
 },
 "nbformat": 4,
 "nbformat_minor": 4
}
